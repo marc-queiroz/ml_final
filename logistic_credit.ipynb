{
 "cells": [
  {
   "cell_type": "code",
   "execution_count": 153,
   "metadata": {},
   "outputs": [],
   "source": [
    "import os\n",
    "# print(os.listdir(\"input\"))\n",
    "\n",
    "# Any results you write to the current directory are saved as output.\n",
    "\n",
    "import pandas as pd\n",
    "\n",
    "from sklearn.model_selection import train_test_split"
   ]
  },
  {
   "cell_type": "code",
   "execution_count": 154,
   "metadata": {},
   "outputs": [],
   "source": [
    "# Importing the dataset\n",
    "#alldataset = pd.read_csv('credit.csv')\n",
    "#dataset = alldataset.sample(frac=0.7, random_state=42)"
   ]
  },
  {
   "cell_type": "code",
   "execution_count": 155,
   "metadata": {},
   "outputs": [],
   "source": [
    "# dataset.to_csv(\"credit_70_percent.csv\")"
   ]
  },
  {
   "cell_type": "code",
   "execution_count": 156,
   "metadata": {},
   "outputs": [],
   "source": [
    "# !unzip credit_70_percent.zip"
   ]
  },
  {
   "cell_type": "code",
   "execution_count": 157,
   "metadata": {},
   "outputs": [],
   "source": [
    "dataset = pd.read_csv('credit_70_percent.csv')"
   ]
  },
  {
   "cell_type": "code",
   "execution_count": 158,
   "metadata": {},
   "outputs": [],
   "source": [
    "y_train_data = dataset[['Y']]"
   ]
  },
  {
   "cell_type": "code",
   "execution_count": 159,
   "metadata": {},
   "outputs": [],
   "source": [
    "dataset.drop(['ID','Y'], axis=1, inplace=True)"
   ]
  },
  {
   "cell_type": "code",
   "execution_count": 160,
   "metadata": {},
   "outputs": [],
   "source": [
    "# result = dataset.apply(lambda x: sum(x.isnull()))"
   ]
  },
  {
   "cell_type": "code",
   "execution_count": 161,
   "metadata": {},
   "outputs": [],
   "source": [
    "dataset = dataset.loc[:, ~dataset.columns.str.contains('^Unnamed')]"
   ]
  },
  {
   "cell_type": "code",
   "execution_count": 162,
   "metadata": {},
   "outputs": [
    {
     "data": {
      "text/html": [
       "<div>\n",
       "<style scoped>\n",
       "    .dataframe tbody tr th:only-of-type {\n",
       "        vertical-align: middle;\n",
       "    }\n",
       "\n",
       "    .dataframe tbody tr th {\n",
       "        vertical-align: top;\n",
       "    }\n",
       "\n",
       "    .dataframe thead th {\n",
       "        text-align: right;\n",
       "    }\n",
       "</style>\n",
       "<table border=\"1\" class=\"dataframe\">\n",
       "  <thead>\n",
       "    <tr style=\"text-align: right;\">\n",
       "      <th></th>\n",
       "      <th>v1</th>\n",
       "      <th>v2</th>\n",
       "      <th>v3</th>\n",
       "      <th>v4</th>\n",
       "      <th>v5</th>\n",
       "      <th>v6</th>\n",
       "      <th>v7</th>\n",
       "      <th>v8</th>\n",
       "      <th>v9</th>\n",
       "      <th>v10</th>\n",
       "      <th>...</th>\n",
       "      <th>v60</th>\n",
       "      <th>v62</th>\n",
       "      <th>v64</th>\n",
       "      <th>v66</th>\n",
       "      <th>v68</th>\n",
       "      <th>v70</th>\n",
       "      <th>v72</th>\n",
       "      <th>v74</th>\n",
       "      <th>v76</th>\n",
       "      <th>v78</th>\n",
       "    </tr>\n",
       "  </thead>\n",
       "  <tbody>\n",
       "    <tr>\n",
       "      <th>0</th>\n",
       "      <td>0</td>\n",
       "      <td>0</td>\n",
       "      <td>0</td>\n",
       "      <td>0</td>\n",
       "      <td>0</td>\n",
       "      <td>0</td>\n",
       "      <td>0</td>\n",
       "      <td>0</td>\n",
       "      <td>0</td>\n",
       "      <td>0</td>\n",
       "      <td>...</td>\n",
       "      <td>0.0</td>\n",
       "      <td>0.0</td>\n",
       "      <td>0.00</td>\n",
       "      <td>0.00</td>\n",
       "      <td>0.0</td>\n",
       "      <td>0.0</td>\n",
       "      <td>0.00</td>\n",
       "      <td>0.00</td>\n",
       "      <td>0.0</td>\n",
       "      <td>0.0</td>\n",
       "    </tr>\n",
       "    <tr>\n",
       "      <th>1</th>\n",
       "      <td>0</td>\n",
       "      <td>0</td>\n",
       "      <td>0</td>\n",
       "      <td>0</td>\n",
       "      <td>0</td>\n",
       "      <td>0</td>\n",
       "      <td>0</td>\n",
       "      <td>0</td>\n",
       "      <td>0</td>\n",
       "      <td>0</td>\n",
       "      <td>...</td>\n",
       "      <td>0.0</td>\n",
       "      <td>0.0</td>\n",
       "      <td>0.00</td>\n",
       "      <td>0.00</td>\n",
       "      <td>0.0</td>\n",
       "      <td>0.0</td>\n",
       "      <td>0.00</td>\n",
       "      <td>0.00</td>\n",
       "      <td>0.0</td>\n",
       "      <td>0.0</td>\n",
       "    </tr>\n",
       "    <tr>\n",
       "      <th>2</th>\n",
       "      <td>0</td>\n",
       "      <td>0</td>\n",
       "      <td>0</td>\n",
       "      <td>0</td>\n",
       "      <td>0</td>\n",
       "      <td>0</td>\n",
       "      <td>0</td>\n",
       "      <td>0</td>\n",
       "      <td>0</td>\n",
       "      <td>0</td>\n",
       "      <td>...</td>\n",
       "      <td>0.0</td>\n",
       "      <td>0.0</td>\n",
       "      <td>0.00</td>\n",
       "      <td>0.00</td>\n",
       "      <td>0.0</td>\n",
       "      <td>0.0</td>\n",
       "      <td>1624.50</td>\n",
       "      <td>964.00</td>\n",
       "      <td>0.0</td>\n",
       "      <td>428.0</td>\n",
       "    </tr>\n",
       "    <tr>\n",
       "      <th>3</th>\n",
       "      <td>0</td>\n",
       "      <td>0</td>\n",
       "      <td>0</td>\n",
       "      <td>0</td>\n",
       "      <td>0</td>\n",
       "      <td>0</td>\n",
       "      <td>0</td>\n",
       "      <td>0</td>\n",
       "      <td>0</td>\n",
       "      <td>0</td>\n",
       "      <td>...</td>\n",
       "      <td>0.0</td>\n",
       "      <td>0.0</td>\n",
       "      <td>0.00</td>\n",
       "      <td>0.00</td>\n",
       "      <td>0.0</td>\n",
       "      <td>0.0</td>\n",
       "      <td>782.11</td>\n",
       "      <td>121.78</td>\n",
       "      <td>0.0</td>\n",
       "      <td>0.0</td>\n",
       "    </tr>\n",
       "    <tr>\n",
       "      <th>4</th>\n",
       "      <td>0</td>\n",
       "      <td>0</td>\n",
       "      <td>0</td>\n",
       "      <td>0</td>\n",
       "      <td>0</td>\n",
       "      <td>0</td>\n",
       "      <td>0</td>\n",
       "      <td>0</td>\n",
       "      <td>0</td>\n",
       "      <td>0</td>\n",
       "      <td>...</td>\n",
       "      <td>0.0</td>\n",
       "      <td>0.0</td>\n",
       "      <td>2790.99</td>\n",
       "      <td>2128.66</td>\n",
       "      <td>0.0</td>\n",
       "      <td>0.0</td>\n",
       "      <td>2790.99</td>\n",
       "      <td>2128.66</td>\n",
       "      <td>0.0</td>\n",
       "      <td>0.0</td>\n",
       "    </tr>\n",
       "    <tr>\n",
       "      <th>...</th>\n",
       "      <td>...</td>\n",
       "      <td>...</td>\n",
       "      <td>...</td>\n",
       "      <td>...</td>\n",
       "      <td>...</td>\n",
       "      <td>...</td>\n",
       "      <td>...</td>\n",
       "      <td>...</td>\n",
       "      <td>...</td>\n",
       "      <td>...</td>\n",
       "      <td>...</td>\n",
       "      <td>...</td>\n",
       "      <td>...</td>\n",
       "      <td>...</td>\n",
       "      <td>...</td>\n",
       "      <td>...</td>\n",
       "      <td>...</td>\n",
       "      <td>...</td>\n",
       "      <td>...</td>\n",
       "      <td>...</td>\n",
       "      <td>...</td>\n",
       "    </tr>\n",
       "    <tr>\n",
       "      <th>153984</th>\n",
       "      <td>0</td>\n",
       "      <td>0</td>\n",
       "      <td>0</td>\n",
       "      <td>0</td>\n",
       "      <td>0</td>\n",
       "      <td>0</td>\n",
       "      <td>0</td>\n",
       "      <td>0</td>\n",
       "      <td>0</td>\n",
       "      <td>0</td>\n",
       "      <td>...</td>\n",
       "      <td>0.0</td>\n",
       "      <td>0.0</td>\n",
       "      <td>0.00</td>\n",
       "      <td>0.00</td>\n",
       "      <td>0.0</td>\n",
       "      <td>0.0</td>\n",
       "      <td>0.00</td>\n",
       "      <td>0.00</td>\n",
       "      <td>0.0</td>\n",
       "      <td>0.0</td>\n",
       "    </tr>\n",
       "    <tr>\n",
       "      <th>153985</th>\n",
       "      <td>0</td>\n",
       "      <td>0</td>\n",
       "      <td>0</td>\n",
       "      <td>0</td>\n",
       "      <td>0</td>\n",
       "      <td>0</td>\n",
       "      <td>0</td>\n",
       "      <td>0</td>\n",
       "      <td>0</td>\n",
       "      <td>0</td>\n",
       "      <td>...</td>\n",
       "      <td>0.0</td>\n",
       "      <td>0.0</td>\n",
       "      <td>0.00</td>\n",
       "      <td>0.00</td>\n",
       "      <td>0.0</td>\n",
       "      <td>0.0</td>\n",
       "      <td>0.00</td>\n",
       "      <td>0.00</td>\n",
       "      <td>0.0</td>\n",
       "      <td>0.0</td>\n",
       "    </tr>\n",
       "    <tr>\n",
       "      <th>153986</th>\n",
       "      <td>0</td>\n",
       "      <td>0</td>\n",
       "      <td>0</td>\n",
       "      <td>0</td>\n",
       "      <td>0</td>\n",
       "      <td>0</td>\n",
       "      <td>0</td>\n",
       "      <td>0</td>\n",
       "      <td>1</td>\n",
       "      <td>1</td>\n",
       "      <td>...</td>\n",
       "      <td>0.0</td>\n",
       "      <td>0.0</td>\n",
       "      <td>0.00</td>\n",
       "      <td>0.00</td>\n",
       "      <td>0.0</td>\n",
       "      <td>0.0</td>\n",
       "      <td>0.00</td>\n",
       "      <td>0.00</td>\n",
       "      <td>0.0</td>\n",
       "      <td>0.0</td>\n",
       "    </tr>\n",
       "    <tr>\n",
       "      <th>153987</th>\n",
       "      <td>0</td>\n",
       "      <td>0</td>\n",
       "      <td>0</td>\n",
       "      <td>0</td>\n",
       "      <td>0</td>\n",
       "      <td>0</td>\n",
       "      <td>0</td>\n",
       "      <td>0</td>\n",
       "      <td>0</td>\n",
       "      <td>0</td>\n",
       "      <td>...</td>\n",
       "      <td>0.0</td>\n",
       "      <td>0.0</td>\n",
       "      <td>0.00</td>\n",
       "      <td>0.00</td>\n",
       "      <td>0.0</td>\n",
       "      <td>0.0</td>\n",
       "      <td>0.00</td>\n",
       "      <td>0.00</td>\n",
       "      <td>0.0</td>\n",
       "      <td>0.0</td>\n",
       "    </tr>\n",
       "    <tr>\n",
       "      <th>153988</th>\n",
       "      <td>0</td>\n",
       "      <td>0</td>\n",
       "      <td>0</td>\n",
       "      <td>0</td>\n",
       "      <td>0</td>\n",
       "      <td>0</td>\n",
       "      <td>0</td>\n",
       "      <td>0</td>\n",
       "      <td>0</td>\n",
       "      <td>0</td>\n",
       "      <td>...</td>\n",
       "      <td>0.0</td>\n",
       "      <td>0.0</td>\n",
       "      <td>0.00</td>\n",
       "      <td>0.00</td>\n",
       "      <td>0.0</td>\n",
       "      <td>0.0</td>\n",
       "      <td>0.00</td>\n",
       "      <td>0.00</td>\n",
       "      <td>0.0</td>\n",
       "      <td>0.0</td>\n",
       "    </tr>\n",
       "  </tbody>\n",
       "</table>\n",
       "<p>153989 rows × 672 columns</p>\n",
       "</div>"
      ],
      "text/plain": [
       "        v1  v2  v3  v4  v5  v6  v7  v8  v9  v10  ...  v60  v62      v64  \\\n",
       "0        0   0   0   0   0   0   0   0   0    0  ...  0.0  0.0     0.00   \n",
       "1        0   0   0   0   0   0   0   0   0    0  ...  0.0  0.0     0.00   \n",
       "2        0   0   0   0   0   0   0   0   0    0  ...  0.0  0.0     0.00   \n",
       "3        0   0   0   0   0   0   0   0   0    0  ...  0.0  0.0     0.00   \n",
       "4        0   0   0   0   0   0   0   0   0    0  ...  0.0  0.0  2790.99   \n",
       "...     ..  ..  ..  ..  ..  ..  ..  ..  ..  ...  ...  ...  ...      ...   \n",
       "153984   0   0   0   0   0   0   0   0   0    0  ...  0.0  0.0     0.00   \n",
       "153985   0   0   0   0   0   0   0   0   0    0  ...  0.0  0.0     0.00   \n",
       "153986   0   0   0   0   0   0   0   0   1    1  ...  0.0  0.0     0.00   \n",
       "153987   0   0   0   0   0   0   0   0   0    0  ...  0.0  0.0     0.00   \n",
       "153988   0   0   0   0   0   0   0   0   0    0  ...  0.0  0.0     0.00   \n",
       "\n",
       "            v66  v68  v70      v72      v74  v76    v78  \n",
       "0          0.00  0.0  0.0     0.00     0.00  0.0    0.0  \n",
       "1          0.00  0.0  0.0     0.00     0.00  0.0    0.0  \n",
       "2          0.00  0.0  0.0  1624.50   964.00  0.0  428.0  \n",
       "3          0.00  0.0  0.0   782.11   121.78  0.0    0.0  \n",
       "4       2128.66  0.0  0.0  2790.99  2128.66  0.0    0.0  \n",
       "...         ...  ...  ...      ...      ...  ...    ...  \n",
       "153984     0.00  0.0  0.0     0.00     0.00  0.0    0.0  \n",
       "153985     0.00  0.0  0.0     0.00     0.00  0.0    0.0  \n",
       "153986     0.00  0.0  0.0     0.00     0.00  0.0    0.0  \n",
       "153987     0.00  0.0  0.0     0.00     0.00  0.0    0.0  \n",
       "153988     0.00  0.0  0.0     0.00     0.00  0.0    0.0  \n",
       "\n",
       "[153989 rows x 672 columns]"
      ]
     },
     "execution_count": 162,
     "metadata": {},
     "output_type": "execute_result"
    }
   ],
   "source": [
    "dataset"
   ]
  },
  {
   "cell_type": "code",
   "execution_count": 163,
   "metadata": {},
   "outputs": [],
   "source": [
    "# for i, j in dataset.isnull().sum().iteritems():\n",
    "#     print(i,j)"
   ]
  },
  {
   "cell_type": "code",
   "execution_count": 164,
   "metadata": {},
   "outputs": [
    {
     "name": "stderr",
     "output_type": "stream",
     "text": [
      "/home/marc/.virtualenvs/machine-learning/lib/python3.8/site-packages/numpy/lib/nanfunctions.py:1111: RuntimeWarning: Mean of empty slice\n",
      "  return np.nanmean(a, axis, out=out, keepdims=keepdims)\n"
     ]
    }
   ],
   "source": [
    "for i in list(dataset):\n",
    "    #print(dataset[i].median())\n",
    "    median = dataset[i].median()\n",
    "    dataset[i].fillna(median, inplace=True)\n",
    "    #print(i, dataset[i].median())\n",
    "    #break\n",
    "    #print(i, dataset[i].mean())\n",
    "    "
   ]
  },
  {
   "cell_type": "code",
   "execution_count": 165,
   "metadata": {},
   "outputs": [],
   "source": [
    "dataset = dataset.dropna(axis=1)"
   ]
  },
  {
   "cell_type": "code",
   "execution_count": 166,
   "metadata": {},
   "outputs": [],
   "source": [
    "# https://towardsdatascience.com/data-cleaning-with-python-and-pandas-detecting-missing-values-3e9c6ebcf78b\n",
    "# for i, j in dataset.isnull().sum().iteritems():\n",
    "#     print(i,j)"
   ]
  },
  {
   "cell_type": "code",
   "execution_count": 167,
   "metadata": {},
   "outputs": [
    {
     "name": "stdout",
     "output_type": "stream",
     "text": [
      "False\n",
      "0\n"
     ]
    }
   ],
   "source": [
    "# Any missing values?\n",
    "print(dataset.isnull().values.any())\n",
    "\n",
    "# Total number of missing values\n",
    "print(dataset.isnull().sum().sum())"
   ]
  },
  {
   "cell_type": "code",
   "execution_count": 168,
   "metadata": {},
   "outputs": [],
   "source": [
    "X_train, X_test, y_train, y_test =  train_test_split(dataset, y_train_data, test_size=0.2, random_state = 42)"
   ]
  },
  {
   "cell_type": "code",
   "execution_count": 169,
   "metadata": {},
   "outputs": [],
   "source": [
    "from imblearn.over_sampling import SMOTE"
   ]
  },
  {
   "cell_type": "code",
   "execution_count": 170,
   "metadata": {},
   "outputs": [
    {
     "name": "stdout",
     "output_type": "stream",
     "text": [
      "Before OverSampling, counts of label '1': Y    97914\n",
      "dtype: int64\n",
      "Before OverSampling, counts of label '0': Y    25277\n",
      "dtype: int64 \n",
      "\n"
     ]
    }
   ],
   "source": [
    "print(\"Before OverSampling, counts of label '1': {}\".format((y_train==1).sum()))\n",
    "print(\"Before OverSampling, counts of label '0': {} \\n\".format((y_train==0).sum()))\n",
    "sm = SMOTE(random_state=42)"
   ]
  },
  {
   "cell_type": "code",
   "execution_count": 171,
   "metadata": {},
   "outputs": [],
   "source": [
    "X_train_res, y_train_res = sm.fit_sample(X_train, y_train)"
   ]
  },
  {
   "cell_type": "code",
   "execution_count": 172,
   "metadata": {},
   "outputs": [
    {
     "name": "stdout",
     "output_type": "stream",
     "text": [
      "After OverSampling, the shape of train_X: (195828, 661)\n",
      "After OverSampling, the shape of train_y: (195828, 1) \n",
      "\n",
      "After OverSampling, counts of label '1': Y    97914\n",
      "dtype: int64\n",
      "After OverSampling, counts of label '0': Y    97914\n",
      "dtype: int64\n"
     ]
    }
   ],
   "source": [
    "print('After OverSampling, the shape of train_X: {}'.format(X_train_res.shape))\n",
    "print('After OverSampling, the shape of train_y: {} \\n'.format(y_train_res.shape))\n",
    "\n",
    "print(\"After OverSampling, counts of label '1': {}\".format((y_train_res==1).sum()))\n",
    "print(\"After OverSampling, counts of label '0': {}\".format((y_train_res==0).sum()))"
   ]
  },
  {
   "cell_type": "code",
   "execution_count": 173,
   "metadata": {},
   "outputs": [],
   "source": [
    "from sklearn.linear_model import LogisticRegression\n",
    "from sklearn.metrics import classification_report, confusion_matrix\n"
   ]
  },
  {
   "cell_type": "code",
   "execution_count": 174,
   "metadata": {},
   "outputs": [],
   "source": [
    "# model = LogisticRegression(solver='liblinear', random_state=42)"
   ]
  },
  {
   "cell_type": "code",
   "execution_count": 175,
   "metadata": {},
   "outputs": [],
   "source": [
    "# y_train_res.values.ravel()"
   ]
  },
  {
   "cell_type": "code",
   "execution_count": 176,
   "metadata": {},
   "outputs": [],
   "source": [
    "# model.fit(X_train_res, y_train_res.value.ravel())"
   ]
  },
  {
   "cell_type": "code",
   "execution_count": 177,
   "metadata": {},
   "outputs": [],
   "source": [
    "import numpy as np\n",
    "from sklearn.model_selection import GridSearchCV\n",
    "from sklearn.decomposition import PCA\n",
    "from sklearn.linear_model import LogisticRegression\n",
    "from sklearn.metrics import confusion_matrix, precision_recall_curve, auc, roc_auc_score, roc_curve, recall_score, classification_report\n",
    "\n",
    "def reduce_dimension(n, X):\n",
    "    print(\"==============Dimensionality reduction using PCA==================\")\n",
    "    pca=PCA(n_components=n,whiten=True)\n",
    "    pca.fit(X)\n",
    "    training_r=pca.transform(X)\n",
    "    print('{} of the variance has been retrieved for n={} in PCA'.format(pca.explained_variance_ratio_.sum(), n))\n",
    "    return training_r"
   ]
  },
  {
   "cell_type": "code",
   "execution_count": 178,
   "metadata": {},
   "outputs": [
    {
     "name": "stdout",
     "output_type": "stream",
     "text": [
      "==============Dimensionality reduction using PCA==================\n",
      "0.9897337019499558 of the variance has been retrieved for n=20 in PCA\n",
      "==============Dimensionality reduction using PCA==================\n",
      "0.9927345943048845 of the variance has been retrieved for n=20 in PCA\n"
     ]
    }
   ],
   "source": [
    "X_train_res_r = reduce_dimension(20, X_train_res)\n",
    "X_test_r = reduce_dimension(20, X_test)"
   ]
  },
  {
   "cell_type": "code",
   "execution_count": null,
   "metadata": {},
   "outputs": [],
   "source": []
  },
  {
   "cell_type": "code",
   "execution_count": 180,
   "metadata": {},
   "outputs": [
    {
     "name": "stdout",
     "output_type": "stream",
     "text": [
      "Fitting 5 folds for each of 10 candidates, totalling 50 fits\n"
     ]
    },
    {
     "name": "stderr",
     "output_type": "stream",
     "text": [
      "[Parallel(n_jobs=3)]: Using backend LokyBackend with 3 concurrent workers.\n",
      "[Parallel(n_jobs=3)]: Done  12 tasks      | elapsed:  2.7min\n",
      "[Parallel(n_jobs=3)]: Done  50 out of  50 | elapsed: 10.4min finished\n"
     ]
    },
    {
     "name": "stdout",
     "output_type": "stream",
     "text": [
      "{'C': 7.0}\n",
      "              precision    recall  f1-score   support\n",
      "\n",
      "           0       0.28      0.48      0.35      6270\n",
      "           1       0.84      0.68      0.75     24528\n",
      "\n",
      "    accuracy                           0.64     30798\n",
      "   macro avg       0.56      0.58      0.55     30798\n",
      "weighted avg       0.72      0.64      0.67     30798\n",
      "\n"
     ]
    },
    {
     "name": "stderr",
     "output_type": "stream",
     "text": [
      "/home/marc/.virtualenvs/machine-learning/lib/python3.8/site-packages/sklearn/linear_model/_logistic.py:762: ConvergenceWarning: lbfgs failed to converge (status=1):\n",
      "STOP: TOTAL NO. of ITERATIONS REACHED LIMIT.\n",
      "\n",
      "Increase the number of iterations (max_iter) or scale the data as shown in:\n",
      "    https://scikit-learn.org/stable/modules/preprocessing.html\n",
      "Please also refer to the documentation for alternative solver options:\n",
      "    https://scikit-learn.org/stable/modules/linear_model.html#logistic-regression\n",
      "  n_iter_i = _check_optimize_result(\n"
     ]
    }
   ],
   "source": [
    "def fit_logistic_regression_with_linspace(X_train, y_train):\n",
    "    parameters = { 'C': np.linspace(1, 10, 10) }\n",
    "    lr = LogisticRegression()\n",
    "    clf = GridSearchCV(lr, parameters, cv=5, verbose=5, n_jobs=3)\n",
    "    clf.fit(X_train, y_train.values.ravel())\n",
    "    return clf\n",
    "\n",
    "# poor results with this technique\n",
    "def do_logistic_regression_with_linspace(X_train_res, y_train_res, X_test, y_test):\n",
    "    clf = fit_logistic_regression_with_linspace(X_train_res, y_train_res)\n",
    "    print(clf.best_params_)\n",
    "    # get best clf ?\n",
    "    # lr1 = LogisticRegression(C=7, penalty='l2', verbose=5)\n",
    "    # lr1.fit(X_train_res, y_train_res.values.ravel())\n",
    "    # confusion_matrix(y_test, lr1.predict(X_test))\n",
    "    # https://scikit-learn.org/stable/auto_examples/model_selection/plot_grid_search_digits.html\n",
    "    y_true, y_pred = y_test, clf.predict(X_test)\n",
    "    print(classification_report(y_true, y_pred))\n",
    "\n",
    "# with reduced dimension\n",
    "#do_logistic_regression_with_linspace(X_train_res_r, y_train_res, reduce_dimension(20, X_test), y_test)\n",
    "\n",
    "# 661 features, no reduce dimensions\n",
    "do_logistic_regression_with_linspace(X_train_res, y_train_res, X_test, y_test)\n"
   ]
  },
  {
   "cell_type": "code",
   "execution_count": null,
   "metadata": {},
   "outputs": [],
   "source": [
    "from sklearn.svm import SVC\n",
    "from sklearn.svm import LinearSVC\n",
    "\n",
    "# not working - no convergence (too many data > 10000)\n",
    "def fit_svm_using_gridsearch(training_r, y_train_res):\n",
    "    # Create the parameter grid based on the results of random search \n",
    "    # params_grid = [{'kernel': ['rbf'], 'gamma': [1e-3, 1e-4],\n",
    "    #                     'C': [1, 10, 100, 1000]},\n",
    "    #                    {'kernel': ['linear'], 'C': [1, 10, 100, 1000]}]\n",
    "\n",
    "    # Performing CV to tune parameters for best SVM fit \n",
    "    svm_model = GridSearchCV(LinearSVC(), params_grid, cv=5, verbose=5, n_jobs=6)\n",
    "    # svm_model.fit(X_train_res, y_train_res.values.ravel())\n",
    "    svm_model.fit(training_r, y_train_res.values.ravel())\n",
    "    return svm_model"
   ]
  },
  {
   "cell_type": "code",
   "execution_count": 182,
   "metadata": {},
   "outputs": [
    {
     "name": "stdout",
     "output_type": "stream",
     "text": [
      "[[ 2029  4241]\n",
      " [ 5040 19488]]\n",
      "              precision    recall  f1-score   support\n",
      "\n",
      "           0       0.29      0.32      0.30      6270\n",
      "           1       0.82      0.79      0.81     24528\n",
      "\n",
      "    accuracy                           0.70     30798\n",
      "   macro avg       0.55      0.56      0.56     30798\n",
      "weighted avg       0.71      0.70      0.71     30798\n",
      "\n",
      "0.6\n",
      "0.875\n",
      "0.5\n",
      "0.875\n",
      "0.8\n",
      "0.5\n",
      "0.75\n",
      "0.3333333333333333\n",
      "0.175\n",
      "0.8\n",
      "0.5\n",
      "0.5\n",
      "0.5\n",
      "0.8\n",
      "0.6666666666666666\n",
      "0.875\n",
      "0.75\n",
      "0.175\n",
      "0.8\n",
      "0.6\n",
      "0.175\n",
      "0.875\n",
      "0.5\n"
     ]
    }
   ],
   "source": [
    "# decision tree\n",
    "from sklearn.tree import DecisionTreeRegressor\n",
    "\n",
    "def do_decision_tree(training_r, y_train, X_test, y_test):\n",
    "    regr = DecisionTreeRegressor()\n",
    "    regr.fit(training_r, y_train.values.ravel())\n",
    "    print(confusion_matrix(y_test, regr.predict(X_test).round()))\n",
    "    print(classification_report(y_test, regr.predict(X_test).round()))\n",
    "    # why use predict().round() ? why regression is return number <> 0 and 1 ?\n",
    "    for i in regr.predict(X_test):\n",
    "        if (i != 0.0 and i != 1.0):\n",
    "            print(i)\n",
    "            \n",
    "do_decision_tree(X_train_res, y_train_res, X_test, y_test) "
   ]
  },
  {
   "cell_type": "code",
   "execution_count": 33,
   "metadata": {},
   "outputs": [
    {
     "name": "stdout",
     "output_type": "stream",
     "text": [
      "              precision    recall  f1-score   support\n",
      "\n",
      "           0       0.24      0.37      0.29      6270\n",
      "           1       0.81      0.69      0.75     24528\n",
      "\n",
      "    accuracy                           0.63     30798\n",
      "   macro avg       0.52      0.53      0.52     30798\n",
      "weighted avg       0.69      0.63      0.65     30798\n",
      "\n"
     ]
    }
   ],
   "source": [
    "# X_test_r = pca.transform(X_test)\n",
    "# print(classification_report(y_test, regr.predict(X_test_r).round()))\n",
    "# End decision tree"
   ]
  },
  {
   "cell_type": "code",
   "execution_count": null,
   "metadata": {},
   "outputs": [
    {
     "name": "stdout",
     "output_type": "stream",
     "text": [
      "Fitting 5 folds for each of 10 candidates, totalling 50 fits\n",
      "[CV] SVC__C=0.01 .....................................................\n"
     ]
    },
    {
     "name": "stderr",
     "output_type": "stream",
     "text": [
      "[Parallel(n_jobs=1)]: Using backend SequentialBackend with 1 concurrent workers.\n"
     ]
    }
   ],
   "source": [
    "from sklearn.pipeline import Pipeline\n",
    "from sklearn.svm import LinearSVC\n",
    "from sklearn.model_selection import GridSearchCV\n",
    "from sklearn.preprocessing import StandardScaler\n",
    "\n",
    "def fit_using_SS_LinearSVC(training_r, y_train_res, X_test, y):\n",
    "    SVCpipe = Pipeline([('scale', StandardScaler()),\n",
    "                       ('SVC',LinearSVC())])\n",
    "    # Gridsearch to determine the value of C\n",
    "    param_grid = {'SVC__C':np.arange(0.01,100,10)}\n",
    "    linearSVC = GridSearchCV(SVCpipe,param_grid,cv=5,return_train_score=True, verbose=5)\n",
    "    linearSVC.fit(training_r,y_train_res.values.ravel())\n",
    "    print(linearSVC.best_params_)    \n",
    "    #linearSVC.coef_\n",
    "    #linearSVC.intercept_\n",
    "    print(classification_report(y_test, model.predict(X_test)))\n",
    "    bestlinearSVC = linearSVC.best_estimator_\n",
    "    bestlinearSVC.fit(X_train_res,y_train_res.values.ravel())\n",
    "    bestlinearSVC.coef_ = bestlinearSVC.named_steps['SVC'].coef_\n",
    "    print(bestlinearSVC.score(training_r,y_train_res.values.ravel()))"
   ]
  },
  {
   "cell_type": "code",
   "execution_count": null,
   "metadata": {},
   "outputs": [],
   "source": []
  }
 ],
 "metadata": {
  "kernelspec": {
   "display_name": "Python 3",
   "language": "python",
   "name": "python3"
  },
  "language_info": {
   "codemirror_mode": {
    "name": "ipython",
    "version": 3
   },
   "file_extension": ".py",
   "mimetype": "text/x-python",
   "name": "python",
   "nbconvert_exporter": "python",
   "pygments_lexer": "ipython3",
   "version": "3.8.5"
  }
 },
 "nbformat": 4,
 "nbformat_minor": 4
}
